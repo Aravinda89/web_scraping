{
 "cells": [
  {
   "cell_type": "code",
   "execution_count": 10,
   "id": "5fbdb233-6afa-4ff8-95ed-20698b8f6408",
   "metadata": {},
   "outputs": [],
   "source": [
    "import hashlib, io, requests, pandas as pd\n",
    "from selenium import webdriver\n",
    "from selenium.webdriver import ChromeOptions\n",
    "from bs4 import BeautifulSoup\n",
    "from pathlib import Path\n",
    "from PIL import Image"
   ]
  },
  {
   "cell_type": "code",
   "execution_count": null,
   "id": "1214db16-6f79-41c5-a31c-57e1e8d9b70a",
   "metadata": {},
   "outputs": [],
   "source": [
    "\n",
    "\n",
    "def parse_image_urls(content, classes, location, source):\n",
    "    soup = BeautifulSoup(content, \"html.parser\")\n",
    "    results = []\n",
    "    for a in soup.findAll(attrs={\"class\": classes}):\n",
    "        name = a.find(location)\n",
    "        if name not in results:\n",
    "            results.append(name.get(source))\n",
    "    return results\n",
    "\n",
    "def save_urls_to_csv(image_urls):\n",
    "    df = pd.DataFrame({\"links\": image_urls})\n",
    "    df.to_csv(\"links.csv\", index=False, encoding=\"utf-8\")\n",
    "\n",
    "def get_and_save_image_to_file(image_url, output_dir):\n",
    "    image_content = requests.get(image_url).content\n",
    "    image_file = io.BytesIO(image_content)\n",
    "    image = Image.open(image_file).convert(\"RGB\")\n",
    "    filename = hashlib.sha1(image_content).hexdigest()[:10] + \".png\"\n",
    "    file_path = output_dir / filename\n",
    "    image.save(file_path, \"PNG\", quality=80)\n",
    "\n",
    "def main():\n",
    "    # url = \"https://www.ebay.com/sch/i.html?_from=R40&_trksid=p2334524.m570.l1313&_nkw=laptop&_sacat=0&LH_TitleDesc=0&_osacat=0&_odkw=laptop\"\n",
    "    url = \"https://es.wallapop.com/app/search?filters_source=search_box&keywords=Vitroceramica&longitude=-3.69196&latitude=40.41956\"\n",
    "\n",
    "    content = get_content_from_url(url)\n",
    "    image_urls = parse_image_urls(\n",
    "        # content=content, classes=\"s-item__image-wrapper image-treatment\", location=\"img\", source=\"src\"\n",
    "        content = content, classes = \"w-100 h-100\", location = \"img\", source = \"src\"\n",
    "    )\n",
    "    save_urls_to_csv(image_urls)\n",
    "\n",
    "    for image_url in image_urls:\n",
    "        get_and_save_image_to_file(\n",
    "            image_url, output_dir=Path(\"./test\")\n",
    "        )\n",
    "\n",
    "if __name__ == \"__main__\":\n",
    "    main()\n",
    "    print(\"Done!\")"
   ]
  },
  {
   "cell_type": "code",
   "execution_count": 14,
   "id": "3d035aaa-30dd-481c-b73e-e39545e7b4d5",
   "metadata": {},
   "outputs": [],
   "source": [
    "def get_content_from_url(url):\n",
    "    options = ChromeOptions()\n",
    "    options.add_argument(\"--headless=new\")\n",
    "    driver = webdriver.Chrome(options=options)\n",
    "\n",
    "    driver.get(url)\n",
    "    page_content = driver.page_source\n",
    "    driver.quit()\n",
    "    return page_content\n",
    "\n",
    "url = \"https://es.wallapop.com/app/search?filters_source=search_box&keywords=Vitroceramica&longitude=-3.69196&latitude=40.41956\"\n",
    "content = get_content_from_url(url)"
   ]
  },
  {
   "cell_type": "code",
   "execution_count": 15,
   "id": "48f08704-9e4c-4b63-9b07-ab80affe92df",
   "metadata": {},
   "outputs": [],
   "source": [
    "soup = BeautifulSoup(content, \"html.parser\")"
   ]
  },
  {
   "cell_type": "code",
   "execution_count": 11,
   "id": "cbefaec1-9af5-4d6f-843c-c28e7a9142d2",
   "metadata": {},
   "outputs": [],
   "source": [
    "# div_tag = soup.find('div', id='slideContainer')"
   ]
  },
  {
   "cell_type": "code",
   "execution_count": 21,
   "id": "e67ef748-c5ea-4286-9de4-743aaa755176",
   "metadata": {},
   "outputs": [
    {
     "data": {
      "text/plain": [
       "[]"
      ]
     },
     "execution_count": 21,
     "metadata": {},
     "output_type": "execute_result"
    }
   ],
   "source": [
    "soup.findAll(attrs={\"id\": 'slideContainer'})"
   ]
  },
  {
   "cell_type": "code",
   "execution_count": 23,
   "id": "21cb43a5-af21-48e0-a847-0b883fe3c8dd",
   "metadata": {},
   "outputs": [
    {
     "data": {
      "text/plain": [
       "<div class=\"loading\"></div>"
      ]
     },
     "execution_count": 23,
     "metadata": {},
     "output_type": "execute_result"
    }
   ],
   "source": [
    "soup.find('div')"
   ]
  },
  {
   "cell_type": "code",
   "execution_count": 32,
   "id": "6ada28fe-3bfb-4032-a113-afa62ae8d526",
   "metadata": {},
   "outputs": [
    {
     "data": {
      "text/plain": [
       "[]"
      ]
     },
     "execution_count": 32,
     "metadata": {},
     "output_type": "execute_result"
    }
   ],
   "source": [
    "soup.findAll(attrs={\"class\":\"wallapop-carousel__controls-overlay\"})"
   ]
  },
  {
   "cell_type": "code",
   "execution_count": 30,
   "id": "bc840817-4407-4268-9dce-7b99fcaaa3eb",
   "metadata": {},
   "outputs": [
    {
     "data": {
      "text/plain": [
       "[]"
      ]
     },
     "execution_count": 30,
     "metadata": {},
     "output_type": "execute_result"
    }
   ],
   "source": [
    "soup.findAll(attrs={\"id\":\"slideContainer\"})"
   ]
  },
  {
   "cell_type": "code",
   "execution_count": 31,
   "id": "1d2dfe1b-de70-46d5-b35e-252c4000eaa9",
   "metadata": {},
   "outputs": [
    {
     "data": {
      "text/plain": [
       "<html class=\"hydrated\" dir=\"ltr\" lang=\"es\"><head><meta content=\"IE=EmulateIE9\" http-equiv=\"X-UA-Compatible\"/>\n",
       "<meta charset=\"utf-8\"/><style data-styles=\"\">walla-dropdown,walla-dropdown-item,wallapop-card-input,wallapop-feature-banner,walla-dialog,walla-tooltip,wallapop-badge,wallapop-carousel,wallapop-timeline,walla-avatar,walla-list,walla-notification-badge,walla-radio,walla-radio-group,walla-snackbar,wallapop-card-select,wallapop-chip,wallapop-tab,wallapop-tab-panel,wallapop-tabs,wallapop-toggle,walla-checkbox,walla-list-item,walla-button,walla-icon,walla-search-input,walla-bottom-sheet,walla-floating-area,wallapop-nav-bar,walla-text-input,walla-loading{visibility:hidden}.hydrated{visibility:inherit}</style>\n",
       "<title>Wallapop</title>\n",
       "<base href=\"/app/\"/>\n",
       "<meta content=\"width=device-width, initial-scale=1.0, maximum-scale=1.0, viewport-fit=cover\" name=\"viewport\"/>\n",
       "<meta content=\"noindex, nofollow\" name=\"robots\"/>\n",
       "<link href=\"favicon.ico\" rel=\"icon\" type=\"image/x-icon\"/>\n",
       "<meta content=\"default\" name=\"apple-mobile-web-app-status-bar-style\"/>\n",
       "<meta content=\"yes\" name=\"apple-mobile-web-app-capable\"/>\n",
       "<meta content=\"#FFF\" name=\"theme-color\"/>\n",
       "<link href=\"/assets/pwa/apple-icon-180.png\" rel=\"apple-touch-icon\"/>\n",
       "<link href=\"/assets/pwa/apple-splash-2048-2732.jpg\" media=\"(device-width: 1024px) and (device-height: 1366px) and (-webkit-device-pixel-ratio: 2) and (orientation: portrait)\" rel=\"apple-touch-startup-image\"/>\n",
       "<link href=\"/assets/pwa/apple-splash-2732-2048.jpg\" media=\"(device-width: 1024px) and (device-height: 1366px) and (-webkit-device-pixel-ratio: 2) and (orientation: landscape)\" rel=\"apple-touch-startup-image\"/>\n",
       "<link href=\"/assets/pwa/apple-splash-1668-2388.jpg\" media=\"(device-width: 834px) and (device-height: 1194px) and (-webkit-device-pixel-ratio: 2) and (orientation: portrait)\" rel=\"apple-touch-startup-image\"/>\n",
       "<link href=\"/assets/pwa/apple-splash-2388-1668.jpg\" media=\"(device-width: 834px) and (device-height: 1194px) and (-webkit-device-pixel-ratio: 2) and (orientation: landscape)\" rel=\"apple-touch-startup-image\"/>\n",
       "<link href=\"/assets/pwa/apple-splash-1536-2048.jpg\" media=\"(device-width: 768px) and (device-height: 1024px) and (-webkit-device-pixel-ratio: 2) and (orientation: portrait)\" rel=\"apple-touch-startup-image\"/>\n",
       "<link href=\"/assets/pwa/apple-splash-2048-1536.jpg\" media=\"(device-width: 768px) and (device-height: 1024px) and (-webkit-device-pixel-ratio: 2) and (orientation: landscape)\" rel=\"apple-touch-startup-image\"/>\n",
       "<link href=\"/assets/pwa/apple-splash-1668-2224.jpg\" media=\"(device-width: 834px) and (device-height: 1112px) and (-webkit-device-pixel-ratio: 2) and (orientation: portrait)\" rel=\"apple-touch-startup-image\"/>\n",
       "<link href=\"/assets/pwa/apple-splash-2224-1668.jpg\" media=\"(device-width: 834px) and (device-height: 1112px) and (-webkit-device-pixel-ratio: 2) and (orientation: landscape)\" rel=\"apple-touch-startup-image\"/>\n",
       "<link href=\"/assets/pwa/apple-splash-1620-2160.jpg\" media=\"(device-width: 810px) and (device-height: 1080px) and (-webkit-device-pixel-ratio: 2) and (orientation: portrait)\" rel=\"apple-touch-startup-image\"/>\n",
       "<link href=\"/assets/pwa/apple-splash-2160-1620.jpg\" media=\"(device-width: 810px) and (device-height: 1080px) and (-webkit-device-pixel-ratio: 2) and (orientation: landscape)\" rel=\"apple-touch-startup-image\"/>\n",
       "<link href=\"/assets/pwa/apple-splash-1284-2778.jpg\" media=\"(device-width: 428px) and (device-height: 926px) and (-webkit-device-pixel-ratio: 3) and (orientation: portrait)\" rel=\"apple-touch-startup-image\"/>\n",
       "<link href=\"/assets/pwa/apple-splash-2778-1284.jpg\" media=\"(device-width: 428px) and (device-height: 926px) and (-webkit-device-pixel-ratio: 3) and (orientation: landscape)\" rel=\"apple-touch-startup-image\"/>\n",
       "<link href=\"/assets/pwa/apple-splash-1170-2532.jpg\" media=\"(device-width: 390px) and (device-height: 844px) and (-webkit-device-pixel-ratio: 3) and (orientation: portrait)\" rel=\"apple-touch-startup-image\"/>\n",
       "<link href=\"/assets/pwa/apple-splash-2532-1170.jpg\" media=\"(device-width: 390px) and (device-height: 844px) and (-webkit-device-pixel-ratio: 3) and (orientation: landscape)\" rel=\"apple-touch-startup-image\"/>\n",
       "<link href=\"/assets/pwa/apple-splash-1125-2436.jpg\" media=\"(device-width: 375px) and (device-height: 812px) and (-webkit-device-pixel-ratio: 3) and (orientation: portrait)\" rel=\"apple-touch-startup-image\"/>\n",
       "<link href=\"/assets/pwa/apple-splash-2436-1125.jpg\" media=\"(device-width: 375px) and (device-height: 812px) and (-webkit-device-pixel-ratio: 3) and (orientation: landscape)\" rel=\"apple-touch-startup-image\"/>\n",
       "<link href=\"/assets/pwa/apple-splash-1242-2688.jpg\" media=\"(device-width: 414px) and (device-height: 896px) and (-webkit-device-pixel-ratio: 3) and (orientation: portrait)\" rel=\"apple-touch-startup-image\"/>\n",
       "<link href=\"/assets/pwa/apple-splash-2688-1242.jpg\" media=\"(device-width: 414px) and (device-height: 896px) and (-webkit-device-pixel-ratio: 3) and (orientation: landscape)\" rel=\"apple-touch-startup-image\"/>\n",
       "<link href=\"/assets/pwa/apple-splash-828-1792.jpg\" media=\"(device-width: 414px) and (device-height: 896px) and (-webkit-device-pixel-ratio: 2) and (orientation: portrait)\" rel=\"apple-touch-startup-image\"/>\n",
       "<link href=\"/assets/pwa/apple-splash-1792-828.jpg\" media=\"(device-width: 414px) and (device-height: 896px) and (-webkit-device-pixel-ratio: 2) and (orientation: landscape)\" rel=\"apple-touch-startup-image\"/>\n",
       "<link href=\"/assets/pwa/apple-splash-1242-2208.jpg\" media=\"(device-width: 414px) and (device-height: 736px) and (-webkit-device-pixel-ratio: 3) and (orientation: portrait)\" rel=\"apple-touch-startup-image\"/>\n",
       "<link href=\"/assets/pwa/apple-splash-2208-1242.jpg\" media=\"(device-width: 414px) and (device-height: 736px) and (-webkit-device-pixel-ratio: 3) and (orientation: landscape)\" rel=\"apple-touch-startup-image\"/>\n",
       "<link href=\"/assets/pwa/apple-splash-750-1334.jpg\" media=\"(device-width: 375px) and (device-height: 667px) and (-webkit-device-pixel-ratio: 2) and (orientation: portrait)\" rel=\"apple-touch-startup-image\"/>\n",
       "<link href=\"/assets/pwa/apple-splash-1334-750.jpg\" media=\"(device-width: 375px) and (device-height: 667px) and (-webkit-device-pixel-ratio: 2) and (orientation: landscape)\" rel=\"apple-touch-startup-image\"/>\n",
       "<link href=\"/assets/pwa/apple-splash-640-1136.jpg\" media=\"(device-width: 320px) and (device-height: 568px) and (-webkit-device-pixel-ratio: 2) and (orientation: portrait)\" rel=\"apple-touch-startup-image\"/>\n",
       "<link href=\"/assets/pwa/apple-splash-1136-640.jpg\" media=\"(device-width: 320px) and (device-height: 568px) and (-webkit-device-pixel-ratio: 2) and (orientation: landscape)\" rel=\"apple-touch-startup-image\"/>\n",
       "<link href=\"https://cdn.wallapop.com\" rel=\"preconnect\"/>\n",
       "<link href=\"https://m.stripe.com\" rel=\"preconnect\"/>\n",
       "<link href=\"https://static.criteo.net\" rel=\"preconnect\"/>\n",
       "<link href=\"https://bridge.richmediastudio.com\" rel=\"preconnect\"/>\n",
       "<link href=\"https://www.googletagservices.com\" rel=\"preconnect\"/>\n",
       "<link href=\"https://c.amazon-adsystem.com\" rel=\"preconnect\"/>\n",
       "<link href=\"https://js.stripe.com/v3\" rel=\"preconnect\"/>\n",
       "<link href=\"manifest.webmanifest\" rel=\"manifest\"/>\n",
       "<!--[if lte IE10]>\n",
       "      <script type=\"text/javascript\">\n",
       "        window.location = 'https://www.wallapop.com/legacy';\n",
       "      </script>\n",
       "    <![endif]-->\n",
       "<link as=\"fetch\" href=\"manifest.json\" rel=\"preload\"/>\n",
       "<style>*,*:before,*:after{box-sizing:border-box}html{font-family:sans-serif;line-height:1.15;-webkit-text-size-adjust:100%;-webkit-tap-highlight-color:rgba(0,0,0,0)}body{margin:0;font-family:-apple-system,BlinkMacSystemFont,Segoe UI,Roboto,Helvetica Neue,Arial,Noto Sans,Liberation Sans,sans-serif,\"Apple Color Emoji\",\"Segoe UI Emoji\",Segoe UI Symbol,\"Noto Color Emoji\";font-size:1rem;font-weight:400;line-height:1.5;color:#212529;text-align:left;background-color:#fff}@font-face{font-family:Wallie;src:url(//d22j03ecumputt.cloudfront.net/fonts/Wallie-Skinny.woff2) format(\"woff2\"),url(//d22j03ecumputt.cloudfront.net/fonts/Wallie-Skinny.woff) format(\"woff\"),url(//d22j03ecumputt.cloudfront.net/fonts/Wallie-Skinny.ttf) format(\"truetype\");font-weight:300;font-display:fallback}@font-face{font-family:Wallie;src:url(//d22j03ecumputt.cloudfront.net/fonts/Wallie-Fit.woff2) format(\"woff2\"),url(//d22j03ecumputt.cloudfront.net/fonts/Wallie-Fit.woff) format(\"woff\"),url(//d22j03ecumputt.cloudfront.net/fonts/Wallie-Fit.ttf) format(\"truetype\");font-display:fallback}@font-face{font-family:Wallie;src:url(//d22j03ecumputt.cloudfront.net/fonts/Wallie-Chunky.woff2) format(\"woff2\"),url(//d22j03ecumputt.cloudfront.net/fonts/Wallie-Chunky.woff) format(\"woff\"),url(//d22j03ecumputt.cloudfront.net/fonts/Wallie-Chunky.ttf) format(\"truetype\");font-weight:700;font-display:fallback}html{height:100%}html,body{font-size:16px}body{font-family:Wallie,Helvetica;-webkit-font-smoothing:antialiased;-moz-osx-font-smoothing:grayscale;min-height:100%}</style><link href=\"styles.4163097e7a438533.css\" media=\"all\" onload=\"this.media='all'\" rel=\"stylesheet\"/><noscript><link href=\"styles.4163097e7a438533.css\" rel=\"stylesheet\"/></noscript></head>\n",
       "<body>\n",
       "<tsl-root>\n",
       "<style>\n",
       "        .loading {\n",
       "          position: absolute;\n",
       "          top: 50%;\n",
       "          left: 50%;\n",
       "          width: 100px;\n",
       "          height: 100px;\n",
       "          transform: translate(-50%, -50%);\n",
       "          background: url('/assets/images/spinner.gif') no-repeat center center / 45px;\n",
       "        }\n",
       "      </style>\n",
       "<div class=\"loading\"></div>\n",
       "</tsl-root>\n",
       "<script src=\"runtime.74189d08b29baaf9.js\" type=\"module\"></script><script src=\"polyfills.188cb9062506f966.js\" type=\"module\"></script><script src=\"main.aa0a83f4b033ffcb.js\" type=\"module\"></script>\n",
       "<script async=\"\" data-document-language=\"true\" data-domain-script=\"89536a6a-67a8-4b93-b6a2-06e1cbcfc48f\" defer=\"\" src=\"https://cdn.cookielaw.org/scripttemplates/otSDKStub.js\" type=\"text/javascript\"></script></body></html>"
      ]
     },
     "execution_count": 31,
     "metadata": {},
     "output_type": "execute_result"
    }
   ],
   "source": [
    "soup"
   ]
  },
  {
   "cell_type": "code",
   "execution_count": null,
   "id": "1acaac83-2282-4d48-9473-98cb40a8329f",
   "metadata": {},
   "outputs": [],
   "source": []
  }
 ],
 "metadata": {
  "kernelspec": {
   "display_name": "TF_env",
   "language": "python",
   "name": "tf_env"
  },
  "language_info": {
   "codemirror_mode": {
    "name": "ipython",
    "version": 3
   },
   "file_extension": ".py",
   "mimetype": "text/x-python",
   "name": "python",
   "nbconvert_exporter": "python",
   "pygments_lexer": "ipython3",
   "version": "3.9.18"
  }
 },
 "nbformat": 4,
 "nbformat_minor": 5
}
