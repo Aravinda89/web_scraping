{
 "cells": [
  {
   "cell_type": "code",
   "execution_count": 1,
   "id": "7fb63570-c116-4bb0-a6c4-0b52087e5b73",
   "metadata": {},
   "outputs": [],
   "source": [
    "# https://www.kaggle.com/code/limwaijian/is-it-a-bird-more-than-2-categories-model"
   ]
  },
  {
   "cell_type": "code",
   "execution_count": 8,
   "id": "16f072ce-6cad-471e-90b5-21a76cafd98f",
   "metadata": {},
   "outputs": [],
   "source": [
    "from icrawler import ImageDownloader\n",
    "from icrawler.builtin import GoogleImageCrawler\n",
    "from icrawler.builtin.google import GoogleFeeder, GoogleParser\n",
    "from time import sleep\n",
    "from fastcore.all import *"
   ]
  },
  {
   "cell_type": "code",
   "execution_count": 9,
   "id": "162f5976-7928-418f-b886-0c3ff2cf9ec3",
   "metadata": {},
   "outputs": [],
   "source": [
    "class MyDownloader(ImageDownloader):\n",
    "    def get_filename(self, task, default_ext):\n",
    "        filename = super(MyDownloader, self).get_filename(task, default_ext)\n",
    "        filename = filename.split(\".\")[0]\n",
    "        return self.prefix + filename + \".png\"\n",
    "\n",
    "class MyCrawler(GoogleImageCrawler):\n",
    "    def __init__(self, feeder_cls=GoogleFeeder, parser_cls=GoogleParser, downloader_cls=MyDownloader, prefix=\"\", *args, **kwargs):\n",
    "        super().__init__(feeder_cls, parser_cls, downloader_cls, *args, **kwargs)\n",
    "        self.downloader.prefix = prefix"
   ]
  },
  {
   "cell_type": "code",
   "execution_count": 10,
   "id": "ec691d94-2ab0-459f-b1d4-e393a22946c3",
   "metadata": {},
   "outputs": [],
   "source": [
    "def search_images(term, max_images=50, folder_name=\".\"):\n",
    "    print(f\"Searching for '{term}'\")\n",
    "    \n",
    "    crawler = MyCrawler(prefix=term,storage={'root_dir': folder_name}, \n",
    "    )\n",
    "    crawler.crawl(keyword=term, max_num=max_images)"
   ]
  },
  {
   "cell_type": "code",
   "execution_count": 11,
   "id": "ab7c6a5b-134d-428f-822a-90e8ad881ba3",
   "metadata": {},
   "outputs": [],
   "source": [
    "# searches = 'forest','bird','horse','donkey','certificate'\n",
    "\n",
    "# path = Path('dataset')\n",
    "# from time import sleep\n",
    "\n",
    "# for o in searches:\n",
    "#     dest = (path/o)\n",
    "#     print(f'This is dest, {dest}')\n",
    "#     dest.mkdir(exist_ok=True, parents=True)\n",
    "#     search_images(f\"{o} photo\", no_of_photos, dest)\n",
    "#     sleep(10)  # Pause between searches to avoid over-loading server\n",
    "#     search_images(f\"{o} sun photo\", no_of_photos, dest)\n",
    "#     sleep(10)\n",
    "#     search_images(f\"{o} night photo\", no_of_photos, dest) \n",
    "#     # Changed this to get \"night photo\" instead of \"shade photo\" since the original would cause paint tones to be downloaded \n",
    "#     sleep(10)\n",
    "#     print(f\"Photos of {o} completed!\")\n",
    "\n",
    "# resize_images(path, max_size=400, dest=path, recurse=True)\n",
    "# print(f\"Photos resized!\")"
   ]
  },
  {
   "cell_type": "code",
   "execution_count": 38,
   "id": "2b0b29f9-5373-4dec-94bd-9e1652bf0323",
   "metadata": {},
   "outputs": [],
   "source": [
    "search_key = 'Projector screens or whiteboards with text written on them'\n",
    "no_of_photos = 50\n",
    "\n",
    "subdir = \"Projector\"\n",
    "path = Path('dataset')\n",
    "dest = (path/subdir)\n",
    "dest.mkdir(exist_ok=True, parents=True)"
   ]
  },
  {
   "cell_type": "code",
   "execution_count": 39,
   "id": "b128bcb6-bfec-4903-953a-92ed89158948",
   "metadata": {},
   "outputs": [
    {
     "name": "stderr",
     "output_type": "stream",
     "text": [
      "2025-03-13 20:26:50,613 - INFO - icrawler.crawler - start crawling...\n",
      "2025-03-13 20:26:50,615 - INFO - icrawler.crawler - starting 1 feeder threads...\n",
      "2025-03-13 20:26:50,619 - INFO - feeder - thread feeder-001 exit\n",
      "2025-03-13 20:26:50,624 - INFO - icrawler.crawler - starting 1 parser threads...\n",
      "2025-03-13 20:26:50,629 - INFO - icrawler.crawler - starting 1 downloader threads...\n"
     ]
    },
    {
     "name": "stdout",
     "output_type": "stream",
     "text": [
      "Searching for 'Projector screens or whiteboards with text written on them'\n"
     ]
    },
    {
     "name": "stderr",
     "output_type": "stream",
     "text": [
      "2025-03-13 20:26:52,436 - INFO - parser - parsing result page https://www.google.com/search?q=Projector+screens+or+whiteboards+with+text+written+on+them&ijn=0&start=0&tbs=&tbm=isch\n",
      "2025-03-13 20:26:54,373 - INFO - downloader - image #1\thttps://smartersurfaces.co.uk/wp-content/uploads/2023/07/projection-screen-whiteboard-film-writable-office-glass-surfaces.jpg\n",
      "2025-03-13 20:26:56,740 - INFO - downloader - image #2\thttps://www.talkpens.com/Content/uploads/2020218644/202006111041370eede67500f24c9e984d64f8e8e96cce.jpg\n",
      "2025-03-13 20:26:58,689 - INFO - downloader - image #3\thttps://prodisplay.com/wp-content/uploads/2022/03/whiteboard-projection-screen-interactive.jpg\n",
      "2025-03-13 20:26:58,858 - INFO - downloader - image #4\thttps://prodisplay.com/wp-content/uploads/2022/10/whiteboard-presentation-screen-380x233.jpg\n",
      "2025-03-13 20:27:00,843 - INFO - downloader - image #5\thttps://smartersurfaces.ae/wp-content/uploads/2023/07/projection-screen-whiteboard-film-office-writable-surfaces.jpg\n",
      "2025-03-13 20:27:03,115 - INFO - downloader - image #6\thttps://image.made-in-china.com/2f0j00LSCEZDtIugfQ/Low-Price-Interactive-Floor-Projection-System-Smart-Whiteboard-Digital-Writing-Board-for-Classroom.jpg\n",
      "2025-03-13 20:27:04,629 - INFO - downloader - image #7\thttps://images.squarespace-cdn.com/content/v1/5c33ef1c96d455b78c0b05df/1557455223758-1S819A7V0MSRZ9JDTDG3/writing-and-projecting-and-using-magnets-on-smart-magnetic-whiteboard-wallpaper-low-sheen-1.jpg\n",
      "2025-03-13 20:27:06,253 - INFO - downloader - image #8\thttps://ae01.alicdn.com/kf/H5a0e148194604d778cf6ff97f6c21fffn.jpg\n",
      "2025-03-13 20:27:07,787 - INFO - downloader - image #9\thttps://i.ytimg.com/vi/ns8d3v2nSsw/maxresdefault.jpg\n",
      "2025-03-13 20:27:09,585 - INFO - downloader - image #10\thttps://smartersurfaces.co.uk/wp-content/uploads/2023/07/projection-screen-whiteboard-film-writable-glass-surfaces-dual-uses.jpg\n",
      "2025-03-13 20:27:11,782 - INFO - downloader - image #11\thttps://elitescreens.com/wp-content/uploads/instadem_main.jpg\n",
      "2025-03-13 20:27:11,959 - INFO - downloader - image #12\thttps://smartersurfaces.co.uk/wp-content/uploads/2023/07/magnets-holding-papers-on-magnetic-projector-screen-wallcovering.jpg\n",
      "2025-03-13 20:27:13,723 - INFO - downloader - image #13\thttps://cdn1.npcdn.net/userfiles/22469/image/FINAL_WriteBest_Product_Catalogue_2021_Web_page_066.jpg\n",
      "2025-03-13 20:27:14,943 - INFO - downloader - image #14\thttps://s.alicdn.com/@sc04/kf/Hb301755829ca41e597f379b51e58e84be.jpg\n",
      "2025-03-13 20:27:16,687 - INFO - downloader - image #15\thttps://assets.edu-quip.co.uk/uploads/product-image-expression-projection-whiteboard-images-1.jpg\n",
      "2025-03-13 20:27:18,648 - INFO - downloader - image #16\thttps://neufert-cdn.archdaily.net/uploads/photo/image/256676/3m-tm-projection-screen-whiteboard-film-pwf-500-b.jpg\n",
      "2025-03-13 20:27:20,931 - INFO - downloader - image #17\thttps://www.elite-electronics.com.au/img_cache/images/elitescreens/wbthinedge_01-largex750.jpg\n",
      "2025-03-13 20:27:23,435 - INFO - downloader - image #18\thttps://www.whiteboard-shop.ie/media/catalog/product/cache/b82db12c6b5328f0b2b7d448a77a777e/P/S/PSHZZ332187_projector_screen_4k_8.jpg\n",
      "2025-03-13 20:27:24,617 - INFO - downloader - image #19\thttps://i.pinimg.com/736x/6c/c1/73/6cc1735f7790f6d0aeb8f40f89f8acfb.jpg\n",
      "2025-03-13 20:27:29,094 - INFO - downloader - image #20\thttps://www.eboss.co.nz/assets/ProductImages/3m/3m-projection-screen-whiteboard-film-pwf-500/3M-Whiteboard-projector-film-3.jpg\n",
      "2025-03-13 20:27:31,419 - ERROR - downloader - Response status code 403, file https://everwhiteboards.com/wp-content/uploads/2019/03/Conference_Room_Whiteboard_Projection-V3.png\n",
      "2025-03-13 20:27:32,968 - INFO - downloader - image #21\thttps://cdn.vectorstock.com/i/1000v/84/09/presentation-empty-projection-screen-whiteboard-vector-23988409.jpg\n",
      "2025-03-13 20:27:34,708 - INFO - downloader - image #22\thttps://smartersurfaces.co.uk/wp-content/uploads/2023/07/magnetic-projector-screen-writable-wallcovering-in-workspace.jpg\n",
      "2025-03-13 20:27:35,609 - ERROR - downloader - Exception caught when downloading file http://adwindowscreens.com/wp-content/uploads/2015/03/DRYERASE2.jpg, error: ('Connection aborted.', RemoteDisconnected('Remote end closed connection without response')), remaining retry times: 2\n",
      "2025-03-13 20:27:35,930 - ERROR - downloader - Exception caught when downloading file http://adwindowscreens.com/wp-content/uploads/2015/03/DRYERASE2.jpg, error: ('Connection aborted.', RemoteDisconnected('Remote end closed connection without response')), remaining retry times: 1\n",
      "2025-03-13 20:27:36,266 - ERROR - downloader - Exception caught when downloading file http://adwindowscreens.com/wp-content/uploads/2015/03/DRYERASE2.jpg, error: ('Connection aborted.', RemoteDisconnected('Remote end closed connection without response')), remaining retry times: 0\n",
      "2025-03-13 20:27:37,739 - INFO - downloader - image #23\thttps://thumbs.dreamstime.com/b/black-solid-icon-whiteboard-frame-education-black-solid-icon-whiteboard-frame-education-billboard-classroom-projector-341088951.jpg\n",
      "2025-03-13 20:27:40,241 - INFO - downloader - image #24\thttps://www.projectorscreen-shop.ie/media/catalog/product/cache/b82db12c6b5328f0b2b7d448a77a777e/W/B/WBPSI120192_010514_74.jpg\n",
      "2025-03-13 20:27:42,542 - ERROR - downloader - Response status code 403, file https://mywhiteboards.com/media/catalog/product/cache/7ca438dcca477b60b6ba534c66ae39e9/b/r/br-2g5k-02_fqeftkyfp9s3flrj.jpg\n",
      "2025-03-13 20:27:44,227 - INFO - downloader - image #25\thttps://m.media-amazon.com/images/I/61zYbRAqJvL.jpg\n",
      "2025-03-13 20:27:45,945 - ERROR - downloader - Response status code 404, file http://retechtronics.com/cdn/shop/files/SB685forschool.jpg\n",
      "2025-03-13 20:27:51,544 - INFO - downloader - image #26\thttps://m.iboard-interactive.com/photo/pt89093961-102_inch_interactive_whiteboard_projector_screen_board_for_school_conference.jpg\n",
      "2025-03-13 20:27:55,569 - INFO - downloader - image #27\thttps://whiteboardsnz.co.nz/wp-content/uploads/2021/02/Smart-Projector-Paint-Contrast-screen-in-use-with-full-kit-on-display.jpg\n",
      "2025-03-13 20:27:57,313 - INFO - downloader - image #28\thttps://images-na.ssl-images-amazon.com/images/I/41xhitAxtBL._UL500_.jpg\n",
      "2025-03-13 20:27:58,624 - INFO - downloader - image #29\thttps://m.iboard-interactive.com/photo/pt89093956-102_inch_interactive_whiteboard_projector_screen_board_for_school_conference.jpg\n",
      "2025-03-13 20:28:00,081 - ERROR - downloader - Response status code 403, file https://www.researchgate.net/publication/4238111/figure/fig3/AS:279419886292996@1443630300172/A-projector-whiteboard-camera-system.png\n",
      "2025-03-13 20:28:02,033 - INFO - downloader - image #30\thttps://images-cdn.ubuy.co.in/636233cb4d871e40f60bd82e-whiteboard-wallpaper-matte-white-4x6.jpg\n",
      "2025-03-13 20:28:04,120 - INFO - downloader - image #31\thttps://image.made-in-china.com/2f0j00EJVkwhmISfqO/Factory-Directly-Portable-Home-Theater-Short-Throw-Laser-4K-Projector-Display-20-40-Point-Touch-Interactive-Whiteboard-for-Home-Education-School-Office.jpg\n",
      "2025-03-13 20:28:04,458 - INFO - downloader - image #32\thttps://m.media-amazon.com/images/I/81tL4h4MklL._AC_UF1000,1000_QL80_.jpg\n",
      "2025-03-13 20:28:06,307 - INFO - downloader - image #33\thttps://shop.elitescreens.com/cdn/shop/files/Header_Whiteboard2.jpg\n",
      "2025-03-13 20:28:07,905 - INFO - downloader - image #34\thttps://images.jdmagicbox.com/quickquotes/images_main/iwb5x40w2_150875475445614000.jpg\n",
      "2025-03-13 20:28:11,931 - INFO - downloader - image #35\thttps://cdn.rapalloav.co.nz/uploads/2023/04/Rapallo_Panasonic-InteractiveTouchscreen_00.jpg\n",
      "2025-03-13 20:28:12,920 - ERROR - downloader - Response status code 403, file https://www.shutterstock.com/image-vector/interactive-projector-screen-icon-illustration-260nw-2562215717.jpg\n",
      "2025-03-13 20:28:16,153 - INFO - downloader - image #36\thttps://www.writeoninternational.com/extimages/p_21.jpg\n",
      "2025-03-13 20:28:18,576 - INFO - downloader - image #37\thttps://mmsrilanka.com/image/cache/catalog/data/Products/Projectors/Projector%20Screens/VEGA-72x96-1000x1000.jpg\n",
      "2025-03-13 20:28:18,981 - INFO - parser - no more page urls for thread parser-001 to parse\n",
      "2025-03-13 20:28:18,983 - INFO - parser - thread parser-001 exit\n",
      "2025-03-13 20:28:22,649 - INFO - downloader - image #38\thttps://www.logovisual.com/wp-content/uploads/2021/08/Custom-printed-whiteboard-3.jpg\n",
      "2025-03-13 20:28:25,548 - INFO - downloader - image #39\thttp://noticeme.org.uk/app/uploads/2017/04/MB-Projector-Whiteboard-4-by-3-Ratio.jpg\n",
      "2025-03-13 20:28:27,048 - INFO - downloader - image #40\thttps://smartersurfaces.com/wp-content/uploads/2023/09/border-around-projector-paint.jpg\n",
      "2025-03-13 20:28:30,451 - INFO - downloader - image #41\thttps://cdn.bestsuppliers.com/seo_products_img/kingonevision/10d2c50ab74d3b48a33b5694ea8f05e6.png\n",
      "2025-03-13 20:28:35,459 - INFO - downloader - no more download task for thread downloader-001\n",
      "2025-03-13 20:28:35,461 - INFO - downloader - thread downloader-001 exit\n",
      "2025-03-13 20:28:35,537 - INFO - icrawler.crawler - Crawling task done!\n"
     ]
    }
   ],
   "source": [
    "search_images(search_key, no_of_photos, dest)"
   ]
  },
  {
   "cell_type": "code",
   "execution_count": null,
   "id": "0a4be985-e743-4797-86ba-ee2b6ea717fd",
   "metadata": {},
   "outputs": [],
   "source": []
  }
 ],
 "metadata": {
  "kernelspec": {
   "display_name": "TF_env",
   "language": "python",
   "name": "tf_env"
  },
  "language_info": {
   "codemirror_mode": {
    "name": "ipython",
    "version": 3
   },
   "file_extension": ".py",
   "mimetype": "text/x-python",
   "name": "python",
   "nbconvert_exporter": "python",
   "pygments_lexer": "ipython3",
   "version": "3.9.18"
  }
 },
 "nbformat": 4,
 "nbformat_minor": 5
}
