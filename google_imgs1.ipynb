{
 "cells": [
  {
   "cell_type": "code",
   "execution_count": 19,
   "id": "f1e07441-af4d-4a9a-bbe9-55bd3646cf04",
   "metadata": {},
   "outputs": [],
   "source": [
    "import requests\n",
    "from selenium import webdriver\n",
    "from selenium.webdriver.common.by import By\n",
    "import urllib\n",
    "import time"
   ]
  },
  {
   "cell_type": "code",
   "execution_count": 20,
   "id": "d32fa8aa-bf6c-4af5-9a6a-819bc46b2be7",
   "metadata": {},
   "outputs": [
    {
     "name": "stderr",
     "output_type": "stream",
     "text": [
      "C:\\Users\\aravi\\AppData\\Local\\Temp\\ipykernel_19708\\4005433866.py:6: DeprecationWarning: use options instead of chrome_options\n",
      "  driver = webdriver.Chrome('webdriver//chromedriver',chrome_options=chrome_options)\n"
     ]
    }
   ],
   "source": [
    "chrome_options = webdriver.ChromeOptions()\n",
    "chrome_options.add_argument('--headless')\n",
    "chrome_options.add_argument('--no-sandbox')\n",
    "chrome_options.add_argument('--disable-dev-shm-usage')\n",
    "\n",
    "driver = webdriver.Chrome('webdriver//chromedriver',chrome_options=chrome_options)"
   ]
  },
  {
   "cell_type": "code",
   "execution_count": 21,
   "id": "fd76a57e-a043-40bb-8195-7c1c34692bb0",
   "metadata": {},
   "outputs": [],
   "source": [
    "# url = (\"https://www.google.com/imghp?hl=en&ogbl\")\n",
    "url = (\"https://www.google.com/search?q={s}&tbm=isch&tbs=sur%3Afc&hl=en&ved=0CAIQpwVqFwoTCKCa1c6s4-oCFQAAAAAdAAAAABAC&biw=1251&bih=568\")"
   ]
  },
  {
   "cell_type": "code",
   "execution_count": 22,
   "id": "048852f8-a567-4d35-a8e8-43caff594bc7",
   "metadata": {},
   "outputs": [],
   "source": [
    "driver.get(url.format(s='Cat'))"
   ]
  },
  {
   "cell_type": "code",
   "execution_count": 23,
   "id": "fff1e7ba-fb64-4907-a76e-e636d49ffe84",
   "metadata": {},
   "outputs": [],
   "source": [
    "driver.execute_script(\"window.scrollTo(0,document.body.scrollHeight);\")\n",
    "time.sleep(5)"
   ]
  },
  {
   "cell_type": "code",
   "execution_count": 24,
   "id": "5410ef96-0ba5-4111-8569-eb974db383ad",
   "metadata": {},
   "outputs": [],
   "source": [
    "imgResults = driver.find_elements(By.XPATH,\"//img[contains(@class,'YQ4gaf')]\")"
   ]
  },
  {
   "cell_type": "code",
   "execution_count": 26,
   "id": "c50c0761-cbb1-4736-91fc-bb0a1564f7e5",
   "metadata": {},
   "outputs": [
    {
     "data": {
      "text/plain": [
       "449"
      ]
     },
     "execution_count": 26,
     "metadata": {},
     "output_type": "execute_result"
    }
   ],
   "source": [
    "len(imgResults)"
   ]
  },
  {
   "cell_type": "code",
   "execution_count": 27,
   "id": "bc64fed8-11b2-4396-a4dd-b180bf210220",
   "metadata": {},
   "outputs": [],
   "source": [
    "src = []\n",
    "for img in imgResults:\n",
    "    src.append(img.get_attribute('src'))"
   ]
  },
  {
   "cell_type": "code",
   "execution_count": 32,
   "id": "ce2928dd-cb42-45ec-83b8-261d525f1287",
   "metadata": {},
   "outputs": [],
   "source": [
    "# src[0]"
   ]
  },
  {
   "cell_type": "code",
   "execution_count": 31,
   "id": "5ef51f73-4d2d-4356-b927-7dc4c83818ed",
   "metadata": {},
   "outputs": [],
   "source": [
    "for i in range(10):\n",
    "    urllib.request.urlretrieve(str(src[i]),\"sample_data/pets{}.jpg\".format(i))\n",
    "    # break"
   ]
  },
  {
   "cell_type": "code",
   "execution_count": null,
   "id": "5360f3d6-4ba2-4440-97f7-3fe1d837967d",
   "metadata": {},
   "outputs": [],
   "source": []
  }
 ],
 "metadata": {
  "kernelspec": {
   "display_name": "TF_env",
   "language": "python",
   "name": "tf_env"
  },
  "language_info": {
   "codemirror_mode": {
    "name": "ipython",
    "version": 3
   },
   "file_extension": ".py",
   "mimetype": "text/x-python",
   "name": "python",
   "nbconvert_exporter": "python",
   "pygments_lexer": "ipython3",
   "version": "3.9.18"
  }
 },
 "nbformat": 4,
 "nbformat_minor": 5
}
