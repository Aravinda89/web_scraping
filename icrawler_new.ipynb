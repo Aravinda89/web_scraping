{
 "cells": [
  {
   "cell_type": "code",
   "execution_count": 1,
   "id": "7fb63570-c116-4bb0-a6c4-0b52087e5b73",
   "metadata": {},
   "outputs": [],
   "source": [
    "# https://www.kaggle.com/code/limwaijian/is-it-a-bird-more-than-2-categories-model"
   ]
  },
  {
   "cell_type": "code",
   "execution_count": 2,
   "id": "16f072ce-6cad-471e-90b5-21a76cafd98f",
   "metadata": {},
   "outputs": [],
   "source": [
    "from icrawler import ImageDownloader\n",
    "from icrawler.builtin import GoogleImageCrawler\n",
    "from icrawler.builtin.google import GoogleFeeder, GoogleParser\n",
    "from time import sleep\n",
    "from fastcore.all import *"
   ]
  },
  {
   "cell_type": "code",
   "execution_count": 3,
   "id": "162f5976-7928-418f-b886-0c3ff2cf9ec3",
   "metadata": {},
   "outputs": [],
   "source": [
    "class MyDownloader(ImageDownloader):\n",
    "    def get_filename(self, task, default_ext):\n",
    "        filename = super(MyDownloader, self).get_filename(task, default_ext)\n",
    "        filename = filename.split(\".\")[0]\n",
    "        return self.prefix + filename + \".png\"\n",
    "\n",
    "class MyCrawler(GoogleImageCrawler):\n",
    "    def __init__(self, feeder_cls=GoogleFeeder, parser_cls=GoogleParser, downloader_cls=MyDownloader, prefix=\"\", *args, **kwargs):\n",
    "        super().__init__(feeder_cls, parser_cls, downloader_cls, *args, **kwargs)\n",
    "        self.downloader.prefix = prefix"
   ]
  },
  {
   "cell_type": "code",
   "execution_count": 4,
   "id": "ec691d94-2ab0-459f-b1d4-e393a22946c3",
   "metadata": {},
   "outputs": [],
   "source": [
    "def search_images(term, max_images=50, folder_name=\".\"):\n",
    "    print(f\"Searching for '{term}'\")\n",
    "    \n",
    "    crawler = MyCrawler(prefix=term,storage={'root_dir': folder_name}, \n",
    "    )\n",
    "    crawler.crawl(keyword=term, max_num=max_images)"
   ]
  },
  {
   "cell_type": "code",
   "execution_count": 5,
   "id": "ab7c6a5b-134d-428f-822a-90e8ad881ba3",
   "metadata": {},
   "outputs": [],
   "source": [
    "# searches = 'forest','bird','horse','donkey','certificate'\n",
    "\n",
    "# path = Path('dataset')\n",
    "# from time import sleep\n",
    "\n",
    "# for o in searches:\n",
    "#     dest = (path/o)\n",
    "#     print(f'This is dest, {dest}')\n",
    "#     dest.mkdir(exist_ok=True, parents=True)\n",
    "#     search_images(f\"{o} photo\", no_of_photos, dest)\n",
    "#     sleep(10)  # Pause between searches to avoid over-loading server\n",
    "#     search_images(f\"{o} sun photo\", no_of_photos, dest)\n",
    "#     sleep(10)\n",
    "#     search_images(f\"{o} night photo\", no_of_photos, dest) \n",
    "#     # Changed this to get \"night photo\" instead of \"shade photo\" since the original would cause paint tones to be downloaded \n",
    "#     sleep(10)\n",
    "#     print(f\"Photos of {o} completed!\")\n",
    "\n",
    "# resize_images(path, max_size=400, dest=path, recurse=True)\n",
    "# print(f\"Photos resized!\")"
   ]
  },
  {
   "cell_type": "code",
   "execution_count": 6,
   "id": "2b0b29f9-5373-4dec-94bd-9e1652bf0323",
   "metadata": {},
   "outputs": [],
   "source": [
    "search_key = 'Oven doors (black glass)'\n",
    "no_of_photos = 60\n",
    "\n",
    "subdir = \"Oven\"\n",
    "path = Path('dataset')\n",
    "dest = (path/subdir)\n",
    "dest.mkdir(exist_ok=True, parents=True)"
   ]
  },
  {
   "cell_type": "code",
   "execution_count": 7,
   "id": "b128bcb6-bfec-4903-953a-92ed89158948",
   "metadata": {},
   "outputs": [
    {
     "name": "stderr",
     "output_type": "stream",
     "text": [
      "2025-03-13 14:49:16,662 - INFO - icrawler.crawler - start crawling...\n",
      "2025-03-13 14:49:16,665 - INFO - icrawler.crawler - starting 1 feeder threads...\n",
      "2025-03-13 14:49:16,669 - INFO - feeder - thread feeder-001 exit\n",
      "2025-03-13 14:49:16,670 - INFO - icrawler.crawler - starting 1 parser threads...\n",
      "2025-03-13 14:49:16,674 - INFO - icrawler.crawler - starting 1 downloader threads...\n"
     ]
    },
    {
     "name": "stdout",
     "output_type": "stream",
     "text": [
      "Searching for 'Oven doors (black glass)'\n"
     ]
    },
    {
     "name": "stderr",
     "output_type": "stream",
     "text": [
      "2025-03-13 14:49:18,645 - INFO - parser - parsing result page https://www.google.com/search?q=Oven+doors+%28black+glass%29&ijn=0&start=0&tbs=&tbm=isch\n",
      "2025-03-13 14:49:20,299 - INFO - downloader - image #1\thttps://www.ubuy.com.lk/productimg/?image=aHR0cHM6Ly9pNS53YWxtYXJ0aW1hZ2VzLmNvbS9hc3IvZWM2NGQxOWQtYTRhNi00YjhmLWE1NjItMWIwOWZhYjQ3NzliLmZlNzNlNDUzOTQyYTBjNGY4ZjRhMTNmZGY3ZTBlMzk0LmpwZWc.jpg\n",
      "2025-03-13 14:49:22,874 - INFO - downloader - image #2\thttps://api.electrolux-medialibrary.com/asset/0f07c580-1569-4197-866c-f49f9ea26998/E4RM3Q/PSGBAP170PW00BRA/PV/PSGBAP170PW00BRA.jpg\n",
      "2025-03-13 14:49:24,558 - INFO - downloader - image #3\thttps://res.cloudinary.com/dtk4ybaqk/image/private/t_wm_buyspares_500/v1544201127/prod/qtnc98xdyy3dcqtceand.jpg\n",
      "2025-03-13 14:49:26,527 - INFO - downloader - image #4\thttp://wamelectrical.com.au/cdn/shop/files/Screenshot_2024-10-09_142448_600x.png\n",
      "2025-03-13 14:49:27,712 - INFO - downloader - image #5\thttps://api.electrolux-medialibrary.com/asset/38fc071a-9f05-4100-bfa2-24eed9a90b7b/E4RM3Q/PSGBAP200PP0020S/PN/PSGBAP200PP0020S.jpg\n",
      "2025-03-13 14:49:28,304 - INFO - downloader - image #6\thttps://res.cloudinary.com/dtk4ybaqk/image/private/t_wm_buyspares_500/v1544201127/prod/e5lm59wwflece1e7jv9r.jpg\n",
      "2025-03-13 14:49:29,954 - INFO - downloader - image #7\thttps://partstown.sirv.com/products/FRI/FRI316452758/FRI316452758_L.jpg\n",
      "2025-03-13 14:49:32,064 - ERROR - downloader - Response status code 403, file https://spares4bosch.co.uk/bmz_cache/4/430-440-es431281-m275686_02jpg\n",
      "2025-03-13 14:49:32,689 - INFO - downloader - image #8\thttps://wamelectrical.com.au/cdn/shop/files/Screenshot2023-12-14161004_1200x.png\n",
      "2025-03-13 14:49:37,361 - INFO - downloader - image #9\thttps://files.ekmcdn.com/olearys/images/thetford-black-glass-replacement-oven-door-(2)-6055-p.jpg\n",
      "2025-03-13 14:49:38,946 - INFO - downloader - image #10\thttps://m.media-amazon.com/images/I/71VEappviiL._AC_UF894,1000_QL80_.jpg\n",
      "2025-03-13 14:49:39,879 - INFO - downloader - image #11\thttps://res.cloudinary.com/dtk4ybaqk/image/private/t_wm_4copyright_500/v1544201127/prod/qgaq8gwnazwfocjnyj3m.jpg\n",
      "2025-03-13 14:49:40,890 - ERROR - downloader - Response status code 403, file https://preview.redd.it/what-are-these-2-black-things-that-keep-popping-off-my-oven-v0-sbftqkx7147a1.jpg\n",
      "2025-03-13 14:49:51,973 - ERROR - downloader - Exception caught when downloading file http://www.lvb.co.za/cdn/shop/products/072023D_3b806cf8-b9e3-4720-aca6-27ff3b122072.png, error: HTTPConnectionPool(host='www.lvb.co.za', port=80): Max retries exceeded with url: /cdn/shop/products/072023D_3b806cf8-b9e3-4720-aca6-27ff3b122072.png (Caused by NewConnectionError('<urllib3.connection.HTTPConnection object at 0x000001C1B8D86D30>: Failed to establish a new connection: [Errno 11001] getaddrinfo failed')), remaining retry times: 2\n",
      "2025-03-13 14:49:54,468 - INFO - downloader - image #12\thttp://www.lvb.co.za/cdn/shop/products/072023D_3b806cf8-b9e3-4720-aca6-27ff3b122072.png\n",
      "2025-03-13 14:49:55,435 - INFO - downloader - image #13\thttps://res.cloudinary.com/dtk4ybaqk/image/private/t_wm_4copyright_500/v1666089119/prod/sigqnh6mdifayg80cl1x.jpg\n",
      "2025-03-13 14:49:56,901 - INFO - downloader - image #14\thttps://api.electrolux-medialibrary.com/asset/2fd1203b-e4a1-4bab-9b07-2ad309bdf7fd/E4RM3Q/PSGBAP190PP00238/PN/PSGBAP190PP00238.jpg\n",
      "2025-03-13 14:49:57,273 - INFO - downloader - image #15\thttps://m.media-amazon.com/images/I/61++vFtcsJL.jpg\n",
      "2025-03-13 14:50:00,018 - INFO - downloader - image #16\thttps://iororwxhqoikjr5q-static.micyjz.com/cloud/jpBplKonjiSRjkpqmnnjjq/oven-door-glass1.jpg\n",
      "2025-03-13 14:50:01,851 - INFO - downloader - image #17\thttps://proforno.com/cdn/shop/products/28973055-wlVxh_300x300.jpg\n",
      "2025-03-13 14:50:03,096 - INFO - downloader - image #18\thttps://res.cloudinary.com/dtk4ybaqk/image/private/t_wm_4copyright_500/v1560496016/prod/rx69efyn9zuxxap8dgrl.jpg\n",
      "2025-03-13 14:50:04,646 - INFO - downloader - image #19\thttps://i.etsystatic.com/35896506/r/il/83a30c/5657722283/il_570xN.5657722283_5ynu.jpg\n",
      "2025-03-13 14:50:06,191 - INFO - downloader - image #20\thttps://thumbs.dreamstime.com/b/person-opening-modern-black-microwave-oven-door-hand-reaches-opens-glass-digital-display-kitchen-household-358582268.jpg\n",
      "2025-03-13 14:50:08,591 - INFO - downloader - image #21\thttps://partsnet.ca/cdn/shop/files/316452758_51a49c5c-b69e-4e59-a371-26610360f6c5.jpg\n",
      "2025-03-13 14:50:10,766 - INFO - downloader - image #22\thttps://www.caple.co.uk/wp-content/uploads/2023/04/C3249-1000x1000.jpg\n",
      "2025-03-13 14:50:12,913 - INFO - downloader - image #23\thttp://furrion.com/cdn/shop/products/C-FSRS22LA-002_01_copy.png\n",
      "2025-03-13 14:50:15,647 - INFO - downloader - image #24\thttp://www.lvb.co.za/cdn/shop/products/ZZ_ODDGLASS2.png\n",
      "2025-03-13 14:50:17,462 - INFO - downloader - image #25\thttps://zlinekitchen.com/cdn/shop/products/zline--professional--stainless--steel--dual--fuel--range--RA36--detail--stay--put--hinges_abd8ed3a-e6a9-4614-94ff-7a6fc65e7df8.jpg\n",
      "2025-03-13 14:50:19,860 - INFO - downloader - image #26\thttps://150786576.v2.pressablecdn.com/wp-content/uploads/2024/10/%D8%AA%D8%B5%D9%85%D9%8A%D9%85-%D8%A8%D8%AF%D9%88%D9%86-%D8%B9%D9%86%D9%88%D8%A7%D9%86-5-1.jpg\n",
      "2025-03-13 14:50:22,235 - INFO - downloader - image #27\thttps://cdn11.bigcommerce.com/s-pacto3wrn2/images/stencil/780x665/products/4480/614686/72a2bff983d4e31b42827a1bc0bf2fa96bab4cf5__23983.1679195572.jpg\n",
      "2025-03-13 14:50:23,718 - INFO - downloader - image #28\thttps://m.media-amazon.com/images/I/51sqdn0Q-7L.jpg\n",
      "2025-03-13 14:50:26,483 - INFO - downloader - image #29\thttps://shop.westinghouse.com.au/globalassets/0-spareparts/sku140061701011-glass-oven-door-inner-borosilicate-front.png\n",
      "2025-03-13 14:50:28,741 - INFO - downloader - image #30\thttps://api.electrolux-medialibrary.com/asset/ffe9bd08-1c7a-4486-a36e-9a5cc37c2d91/E4RM3Q/PSGBAP170PW00DBY/PN/PSGBAP170PW00DBY.jpg\n",
      "2025-03-13 14:50:30,341 - INFO - downloader - image #31\thttps://s.alicdn.com/@sc04/kf/U09d94894f4b64c858e9b96c5aa75bbc37.jpg\n",
      "2025-03-13 14:50:32,029 - INFO - downloader - image #32\thttps://api.electrolux-medialibrary.com/asset/81d357c6-3252-4d0b-8e40-75899f35aef0/E4RM3Q/PSGBAP230PP00DW2/PR/PSGBAP230PP00DW2.jpg\n",
      "2025-03-13 14:50:33,103 - ERROR - downloader - Response status code 403, file https://www.shutterstock.com/image-photo/hand-opens-glass-door-black-600nw-2490395977.jpg\n",
      "2025-03-13 14:50:39,559 - INFO - downloader - image #33\thttps://cdnus.globalso.com/saidaglass/glass-for-oven-2.jpg\n",
      "2025-03-13 14:50:41,584 - INFO - downloader - image #34\thttps://siteassets.ransomspares.co.uk/Products/800-800/0lxs2q2v638109377921224761.jpg\n",
      "2025-03-13 14:50:43,586 - INFO - downloader - image #35\thttps://res.cloudinary.com/dtk4ybaqk/image/private/t_wm_4copyright_500/v1479808167/prod/imr8p8geabcwc0sm1lxm.jpg\n",
      "2025-03-13 14:50:45,606 - INFO - downloader - image #36\thttps://zlinekitchen.com/cdn/shop/products/zline--professional--stainless--steel--dual--fuel--range--RA36--detail--door--2_42003eb9-2663-4cc0-bec9-1c55cc2b5f76.jpg\n",
      "2025-03-13 14:50:48,996 - INFO - downloader - image #37\thttps://www.amresupply.com/thumbnail/product/1411514/625/469/1411514-WS01L13377-GE-Range-Outer-Oven-Door-Panel-Glass-Black.jpg\n",
      "2025-03-13 14:50:50,736 - INFO - downloader - image #38\thttps://i.ytimg.com/vi/KVXvioYWp7A/sddefault.jpg\n",
      "2025-03-13 14:50:51,683 - INFO - parser - no more page urls for thread parser-001 to parse\n",
      "2025-03-13 14:50:51,686 - INFO - parser - thread parser-001 exit\n",
      "2025-03-13 14:50:54,222 - INFO - downloader - image #39\thttps://www.whirlpool.com/is/image/content/dam/business-unit/whirlpoolv2/en-us/marketing-content/site-assets/page-content/oc-articles/how-to-clean-oven-door-glass/how-to-clean-glass-oven-door-window-Masthead.jpg\n",
      "2025-03-13 14:50:57,151 - INFO - downloader - image #40\thttps://www.huoltopalvelu.com/WebRoot/FHP/Shops/Huolto/5A05/9B3E/8EED/0167/94BC/0A28/1012/4924/3428434645_1_ml.jpg\n",
      "2025-03-13 14:50:57,756 - INFO - downloader - image #41\thttps://res.cloudinary.com/dtk4ybaqk/image/private/t_wm_4copyright_500/v1684225618/prod/nsgqa6bylqem7kdkhna0.jpg\n",
      "2025-03-13 14:50:57,811 - ERROR - downloader - Response status code 403, file https://www.shutterstock.com/image-photo/black-microwave-open-door-set-260nw-2492999063.jpg\n",
      "2025-03-13 14:51:01,448 - INFO - downloader - image #42\thttps://www.onedayglass.com/wp-content/uploads/2019/02/woodstove-glass1.jpg\n",
      "2025-03-13 14:51:06,457 - INFO - downloader - no more download task for thread downloader-001\n",
      "2025-03-13 14:51:06,459 - INFO - downloader - thread downloader-001 exit\n",
      "2025-03-13 14:51:06,768 - INFO - icrawler.crawler - Crawling task done!\n"
     ]
    }
   ],
   "source": [
    "search_images(search_key, no_of_photos, dest)"
   ]
  },
  {
   "cell_type": "code",
   "execution_count": null,
   "id": "0a4be985-e743-4797-86ba-ee2b6ea717fd",
   "metadata": {},
   "outputs": [],
   "source": []
  }
 ],
 "metadata": {
  "kernelspec": {
   "display_name": "TF_env",
   "language": "python",
   "name": "tf_env"
  },
  "language_info": {
   "codemirror_mode": {
    "name": "ipython",
    "version": 3
   },
   "file_extension": ".py",
   "mimetype": "text/x-python",
   "name": "python",
   "nbconvert_exporter": "python",
   "pygments_lexer": "ipython3",
   "version": "3.9.18"
  }
 },
 "nbformat": 4,
 "nbformat_minor": 5
}
