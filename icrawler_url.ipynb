{
 "cells": [
  {
   "cell_type": "code",
   "execution_count": 1,
   "id": "1e4bda24-7fe2-4e43-bda1-1f87376825a3",
   "metadata": {},
   "outputs": [],
   "source": [
    "from icrawler.builtin import GreedyImageCrawler"
   ]
  },
  {
   "cell_type": "code",
   "execution_count": 2,
   "id": "471b59cd-7297-49d1-82b6-9a6bac8e6eea",
   "metadata": {},
   "outputs": [],
   "source": [
    "greedy_crawler = GreedyImageCrawler(storage={'root_dir': 'your_image_dir'})"
   ]
  },
  {
   "cell_type": "code",
   "execution_count": 3,
   "id": "20098c0c-47ae-4a32-ac69-19576752937e",
   "metadata": {},
   "outputs": [
    {
     "name": "stderr",
     "output_type": "stream",
     "text": [
      "2025-03-14 18:34:05,039 - INFO - icrawler.crawler - start crawling...\n",
      "2025-03-14 18:34:05,045 - INFO - icrawler.crawler - starting 1 feeder threads...\n",
      "2025-03-14 18:34:05,048 - INFO - icrawler.crawler - starting 1 parser threads...\n",
      "2025-03-14 18:34:05,051 - INFO - icrawler.crawler - starting 1 downloader threads...\n",
      "2025-03-14 18:34:06,582 - INFO - parser - parsing result page https://www.gossiplankanews.com\n",
      "2025-03-14 18:34:08,628 - INFO - downloader - image #1\thttps://blogger.googleusercontent.com/img/b/R29vZ2xl/AVvXsEiCetrf1Hu4iZOgeiicv-6OiTiBmZvogY70DedVc5Xk_2_0P-V1Khx5X5_Tkogmv1lcATvk3rHoutl2C5wvdl_rPW5_3ARoH_y9T4qEjiikilrzbcJ67FuhAAhoFOClFM7g8AP6uFREFSsz/s300/gossiplankanews2020.png\n",
      "2025-03-14 18:34:09,251 - INFO - downloader - image #2\thttp://sstatic1.histats.com/0.gif?1691828&101\n",
      "2025-03-14 18:34:10,104 - INFO - downloader - image #3\thttps://blogger.googleusercontent.com/img/b/R29vZ2xl/AVvXsEhEBaGo6bYVZwlMurgXFyxutba88-r8McD0vBuB11tBLLJkeNnO6Uu8543paWR7B5mST8pwgwk-y9NvTQQiTBt-tPd9pualzOJJ0Im7NaKpZ_3waA4rT0gNKJXhk9ajY3end_jieL29sEcRyVBb4dgETftJrYyoCCN9RFaHVCNVyc4zQkD0SXzLrB7uBtQ/s16000/collage.jpg\n",
      "2025-03-14 18:34:15,115 - INFO - downloader - no more images available, thread downloader-001 exit\n",
      "2025-03-14 18:34:15,117 - INFO - downloader - thread downloader-001 exit\n",
      "2025-03-14 18:34:15,146 - INFO - icrawler.crawler - Crawling task done!\n",
      "2025-03-14 18:35:04,651 - INFO - parser - parsing result page https://www.gossiplankanews.com/2025/03/blog-post_6835.html\n",
      "2025-03-14 18:35:13,188 - INFO - parser - parsing result page https://www.gossiplankanews.com/2025/03/blog-post_328.html\n",
      "2025-03-14 18:35:21,693 - INFO - parser - parsing result page https://www.gossiplankanews.com/2025/03/656-drug-imports-registered-under-emergency-needs-for-those-who-were-fed-and-drunk-at-hotel-meetings-cope.html\n",
      "2025-03-14 18:35:36,455 - INFO - parser - parsing result page https://www.gossiplankanews.com/2025/03/blog-post_668.html\n",
      "2025-03-14 18:35:51,015 - INFO - parser - parsing result page https://www.gossiplankanews.com/2025/03/blog-post_922.html\n",
      "2025-03-14 18:36:05,648 - INFO - parser - parsing result page https://www.gossiplankanews.com/feeds/8633800085923810917/comments/default\n",
      "C:\\Users\\aravi\\anaconda3\\envs\\TF_env\\lib\\site-packages\\icrawler\\builtin\\greedy.py:30: XMLParsedAsHTMLWarning: It looks like you're parsing an XML document using an HTML parser. If this really is an HTML document (maybe it's XHTML?), you can ignore or filter this warning. If it's XML, you should know that using an XML parser will be more reliable. To parse this document as XML, make sure you have the lxml package installed, and pass the keyword argument `features=\"xml\"` into the BeautifulSoup constructor.\n",
      "  soup = BeautifulSoup(response.content.decode(\"utf-8\", \"ignore\"), \"lxml\")\n",
      "2025-03-14 18:36:06,912 - INFO - parser - parsing result page https://www.gossiplankanews.com/feeds/7619587558441498947/comments/default\n",
      "2025-03-14 18:36:07,415 - INFO - parser - parsing result page https://www.gossiplankanews.com/feeds/6841717440295734250/comments/default\n",
      "2025-03-14 18:36:08,688 - INFO - parser - parsing result page https://www.gossiplankanews.com/feeds/4867584217497948405/comments/default\n",
      "2025-03-14 18:36:09,183 - INFO - parser - parsing result page https://www.gossiplankanews.com/feeds/1072164983155272160/comments/default\n",
      "2025-03-14 18:36:10,654 - INFO - parser - parsing result page https://www.gossiplankanews.com/feeds/comments/default\n",
      "2025-03-14 18:36:12,698 - INFO - parser - parser-001 is waiting for new page urls\n",
      "2025-03-14 18:36:14,713 - INFO - parser - parser-001 is waiting for new page urls\n",
      "2025-03-14 18:36:16,717 - INFO - parser - parser-001 is waiting for new page urls\n",
      "2025-03-14 18:36:18,725 - INFO - parser - parser-001 is waiting for new page urls\n",
      "2025-03-14 18:36:20,735 - INFO - parser - parser-001 is waiting for new page urls\n",
      "2025-03-14 18:36:22,745 - INFO - parser - parser-001 is waiting for new page urls\n",
      "2025-03-14 18:36:24,752 - INFO - parser - parser-001 is waiting for new page urls\n",
      "2025-03-14 18:36:26,759 - INFO - parser - parser-001 is waiting for new page urls\n",
      "2025-03-14 18:36:28,771 - INFO - parser - parser-001 is waiting for new page urls\n",
      "2025-03-14 18:36:30,780 - INFO - parser - parser-001 is waiting for new page urls\n",
      "2025-03-14 18:36:32,791 - INFO - parser - parser-001 is waiting for new page urls\n",
      "2025-03-14 18:36:34,803 - INFO - parser - parser-001 is waiting for new page urls\n",
      "2025-03-14 18:36:36,814 - INFO - parser - parser-001 is waiting for new page urls\n",
      "2025-03-14 18:36:38,828 - INFO - parser - parser-001 is waiting for new page urls\n",
      "2025-03-14 18:36:40,831 - INFO - parser - parser-001 is waiting for new page urls\n",
      "2025-03-14 18:36:42,845 - INFO - parser - parser-001 is waiting for new page urls\n",
      "2025-03-14 18:36:44,863 - INFO - parser - parser-001 is waiting for new page urls\n",
      "2025-03-14 18:36:46,877 - INFO - parser - parser-001 is waiting for new page urls\n",
      "2025-03-14 18:36:48,889 - INFO - parser - parser-001 is waiting for new page urls\n",
      "2025-03-14 18:36:50,891 - INFO - parser - parser-001 is waiting for new page urls\n",
      "2025-03-14 18:36:52,906 - INFO - parser - parser-001 is waiting for new page urls\n",
      "2025-03-14 18:36:54,914 - INFO - parser - parser-001 is waiting for new page urls\n",
      "2025-03-14 18:36:56,918 - INFO - parser - parser-001 is waiting for new page urls\n",
      "2025-03-14 18:36:58,934 - INFO - parser - parser-001 is waiting for new page urls\n",
      "2025-03-14 18:37:00,947 - INFO - parser - parser-001 is waiting for new page urls\n",
      "2025-03-14 18:37:02,964 - INFO - parser - parser-001 is waiting for new page urls\n"
     ]
    }
   ],
   "source": [
    "greedy_crawler.crawl(domains='https://www.gossiplankanews.com/', max_num=0,\n",
    "                     min_size=None, max_size=None)"
   ]
  },
  {
   "cell_type": "code",
   "execution_count": 6,
   "id": "a22d9a06-c0ab-46a4-8557-a755293c6342",
   "metadata": {},
   "outputs": [
    {
     "name": "stderr",
     "output_type": "stream",
     "text": [
      "2025-03-14 18:32:34,842 - INFO - parser - parser-001 is waiting for new page urls\n",
      "2025-03-14 18:32:36,855 - INFO - parser - parser-001 is waiting for new page urls\n",
      "2025-03-14 18:32:38,865 - INFO - parser - parser-001 is waiting for new page urls\n",
      "2025-03-14 18:32:40,876 - INFO - parser - parser-001 is waiting for new page urls\n",
      "2025-03-14 18:32:42,878 - INFO - parser - parser-001 is waiting for new page urls\n",
      "2025-03-14 18:32:44,894 - INFO - parser - parser-001 is waiting for new page urls\n",
      "2025-03-14 18:32:46,909 - INFO - parser - parser-001 is waiting for new page urls\n",
      "2025-03-14 18:32:48,918 - INFO - parser - parser-001 is waiting for new page urls\n"
     ]
    }
   ],
   "source": [
    "# from icrawler.builtin import UrlListCrawler\n",
    "\n",
    "# urllist_crawler = UrlListCrawler(downloader_threads=4,\n",
    "#                                  storage={'root_dir': 'your_image_dir'})\n",
    "# urllist_crawler.crawl('url_list.txt')"
   ]
  },
  {
   "cell_type": "code",
   "execution_count": null,
   "id": "fd3ab64f-7b16-4d8d-891b-e7910aa96678",
   "metadata": {},
   "outputs": [],
   "source": []
  }
 ],
 "metadata": {
  "kernelspec": {
   "display_name": "TF_env",
   "language": "python",
   "name": "tf_env"
  },
  "language_info": {
   "codemirror_mode": {
    "name": "ipython",
    "version": 3
   },
   "file_extension": ".py",
   "mimetype": "text/x-python",
   "name": "python",
   "nbconvert_exporter": "python",
   "pygments_lexer": "ipython3",
   "version": "3.9.18"
  }
 },
 "nbformat": 4,
 "nbformat_minor": 5
}
