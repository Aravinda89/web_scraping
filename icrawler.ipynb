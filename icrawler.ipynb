{
 "cells": [
  {
   "cell_type": "code",
   "execution_count": 1,
   "id": "f8229632-f4fd-420f-9218-9355dea4ee29",
   "metadata": {},
   "outputs": [],
   "source": [
    "from icrawler.builtin import GoogleImageCrawler"
   ]
  },
  {
   "cell_type": "code",
   "execution_count": 4,
   "id": "f94e2b03-757f-4843-b735-8fb1dfb6ed88",
   "metadata": {},
   "outputs": [
    {
     "name": "stderr",
     "output_type": "stream",
     "text": [
      "2024-12-03 04:07:13,257 - INFO - icrawler.crawler - start crawling...\n",
      "2024-12-03 04:07:13,258 - INFO - icrawler.crawler - starting 1 feeder threads...\n",
      "2024-12-03 04:07:13,259 - INFO - icrawler.crawler - starting 1 parser threads...\n",
      "2024-12-03 04:07:13,260 - INFO - icrawler.crawler - starting 1 downloader threads...\n",
      "2024-12-03 04:07:15,005 - INFO - parser - parsing result page https://www.google.com/search?q=vitroceramica+site%3Ahttps%3A%2F%2Fwww.milanuncios.com%2F&ijn=0&start=0&tbs=&tbm=isch\n",
      "2024-12-03 04:07:15,076 - INFO - downloader - skip downloading file 000001.jpg\n",
      "2024-12-03 04:07:15,078 - INFO - downloader - skip downloading file 000002.jpg\n",
      "2024-12-03 04:07:15,079 - INFO - downloader - skip downloading file 000003.jpg\n",
      "2024-12-03 04:07:15,080 - INFO - downloader - skip downloading file 000004.jpg\n",
      "2024-12-03 04:07:15,751 - INFO - parser - parsing result page https://www.google.com/search?q=vitroceramica+site%3Ahttps%3A%2F%2Fwww.milanuncios.com%2F&ijn=1&start=100&tbs=&tbm=isch\n",
      "Exception in thread parser-001:\n",
      "Traceback (most recent call last):\n",
      "  File \"C:\\Users\\aravi\\anaconda3\\envs\\TF_env\\lib\\threading.py\", line 980, in _bootstrap_inner\n",
      "    self.run()\n",
      "  File \"C:\\Users\\aravi\\anaconda3\\envs\\TF_env\\lib\\threading.py\", line 917, in run\n",
      "    self._target(*self._args, **self._kwargs)\n",
      "  File \"C:\\Users\\aravi\\anaconda3\\envs\\TF_env\\lib\\site-packages\\icrawler\\parser.py\", line 94, in worker_exec\n",
      "    for task in self.parse(response, **kwargs):\n",
      "TypeError: 'NoneType' object is not iterable\n",
      "2024-12-03 04:07:20,089 - INFO - downloader - no more download task for thread downloader-001\n",
      "2024-12-03 04:07:20,090 - INFO - downloader - thread downloader-001 exit\n",
      "2024-12-03 04:07:20,323 - INFO - icrawler.crawler - Crawling task done!\n"
     ]
    }
   ],
   "source": [
    "# Set up the Google Image Crawler\n",
    "def download_images(search_keyword, max_images=10, output_dir=\"downloads\"):\n",
    "    google_crawler = GoogleImageCrawler(storage={'root_dir': output_dir})\n",
    "    google_crawler.crawl(keyword=search_keyword, max_num=max_images)\n",
    "\n",
    "if __name__ == \"__main__\":\n",
    "    # Define your search keyword and download preferences\n",
    "    search_term = \"vitroceramica site:https://www.milanuncios.com/\"\n",
    "    max_images_to_download = 1000\n",
    "    save_directory = \"images\"\n",
    "\n",
    "    # Call the function to download images\n",
    "    download_images(search_keyword=search_term, max_images=max_images_to_download, output_dir=save_directory)"
   ]
  },
  {
   "cell_type": "code",
   "execution_count": 1,
   "id": "0e063387-8856-49a4-bc12-e9a4179eee07",
   "metadata": {},
   "outputs": [],
   "source": [
    "# from selenium import webdriver\n",
    "# import time\n",
    "# import os\n",
    "# import requests\n",
    "\n",
    "# def download_images(search_term, max_images, output_dir=\"selenium_images\"):\n",
    "#     os.makedirs(output_dir, exist_ok=True)\n",
    "#     driver = webdriver.Chrome()  # Ensure you have ChromeDriver installed\n",
    "#     driver.get(f\"https://www.google.com/search?tbm=isch&q={search_term}\")\n",
    "\n",
    "#     # Scroll to load more images\n",
    "#     for _ in range(10):\n",
    "#         driver.execute_script(\"window.scrollTo(0, document.body.scrollHeight);\")\n",
    "#         time.sleep(2)\n",
    "\n",
    "#     images = driver.find_elements_by_css_selector(\"img.rg_i\")\n",
    "#     count = 0\n",
    "\n",
    "#     for img in images:\n",
    "#         if count >= max_images:\n",
    "#             break\n",
    "#         try:\n",
    "#             src = img.get_attribute(\"src\") or img.get_attribute(\"data-src\")\n",
    "#             if src:\n",
    "#                 response = requests.get(src, stream=True)\n",
    "#                 if response.status_code == 200:\n",
    "#                     with open(os.path.join(output_dir, f\"image_{count}.jpg\"), \"wb\") as f:\n",
    "#                         for chunk in response.iter_content(1024):\n",
    "#                             f.write(chunk)\n",
    "#                     count += 1\n",
    "#         except Exception as e:\n",
    "#             print(f\"Error downloading image: {e}\")\n",
    "\n",
    "#     driver.quit()"
   ]
  },
  {
   "cell_type": "code",
   "execution_count": 2,
   "id": "bdb83d84-90fc-4981-a165-db4f386d55fc",
   "metadata": {},
   "outputs": [],
   "source": [
    "# download_images(\"car\", 5)"
   ]
  },
  {
   "cell_type": "code",
   "execution_count": null,
   "id": "984a075d-e77a-4823-9efa-e4876805a8f6",
   "metadata": {},
   "outputs": [],
   "source": []
  }
 ],
 "metadata": {
  "kernelspec": {
   "display_name": "TF_env",
   "language": "python",
   "name": "tf_env"
  },
  "language_info": {
   "codemirror_mode": {
    "name": "ipython",
    "version": 3
   },
   "file_extension": ".py",
   "mimetype": "text/x-python",
   "name": "python",
   "nbconvert_exporter": "python",
   "pygments_lexer": "ipython3",
   "version": "3.9.18"
  }
 },
 "nbformat": 4,
 "nbformat_minor": 5
}
