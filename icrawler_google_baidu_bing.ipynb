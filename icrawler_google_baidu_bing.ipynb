{
 "cells": [
  {
   "cell_type": "code",
   "execution_count": 2,
   "id": "eb700247-c756-4a15-aa29-826d438df362",
   "metadata": {},
   "outputs": [],
   "source": [
    "from icrawler.builtin import BaiduImageCrawler, BingImageCrawler, GoogleImageCrawler"
   ]
  },
  {
   "cell_type": "code",
   "execution_count": 7,
   "id": "e6b0647e-270e-4974-bd4b-13c25d818562",
   "metadata": {},
   "outputs": [],
   "source": [
    "google_crawler = GoogleImageCrawler(\n",
    "    feeder_threads=1,\n",
    "    parser_threads=1,\n",
    "    downloader_threads=4,\n",
    "    storage={'root_dir': 'your_image_dir'})\n",
    "\n",
    "filters = dict(\n",
    "    size='large',\n",
    "    # color='orange',\n",
    "    license='commercial,modify',\n",
    "\n",
    "    date=((2017, 1, 1), (2025, 11, 30)))"
   ]
  },
  {
   "cell_type": "code",
   "execution_count": 1,
   "id": "bfedb260-8ceb-4422-abd6-1056529b4c6a",
   "metadata": {},
   "outputs": [],
   "source": [
    "google_crawler.crawl(keyword='car', filters=filters, offset=0, max_num=3,\n",
    "                     min_size=(200,200), max_size=None, file_idx_offset=0)"
   ]
  },
  {
   "cell_type": "code",
   "execution_count": 3,
   "id": "72ef9267-a29b-4717-abaa-d8b14b1a1bb9",
   "metadata": {},
   "outputs": [
    {
     "name": "stderr",
     "output_type": "stream",
     "text": [
      "2025-03-14 16:43:06,301 - INFO - icrawler.crawler - start crawling...\n",
      "2025-03-14 16:43:06,311 - INFO - icrawler.crawler - starting 1 feeder threads...\n",
      "2025-03-14 16:43:06,314 - INFO - feeder - thread feeder-001 exit\n",
      "2025-03-14 16:43:06,314 - INFO - icrawler.crawler - starting 1 parser threads...\n",
      "2025-03-14 16:43:06,322 - INFO - icrawler.crawler - starting 4 downloader threads...\n",
      "2025-03-14 16:43:07,823 - INFO - parser - parsing result page https://www.bing.com/images/async?q=cat&first=0\n",
      "2025-03-14 16:43:10,391 - INFO - downloader - image #1\thttps://i.natgeofe.com/n/548467d8-c5f1-4551-9f58-6817a8d2c45e/NationalGeographic_2572187_16x9.jpg\n",
      "2025-03-14 16:43:10,834 - INFO - downloader - image #2\thttp://upload.wikimedia.org/wikipedia/commons/d/d4/Cat_March_2010-1a.jpg\n",
      "2025-03-14 16:43:10,989 - INFO - downloader - image #3\thttps://cdn.pixabay.com/photo/2022/11/11/09/26/cat-7584624_960_720.jpg\n",
      "2025-03-14 16:43:11,161 - INFO - downloader - downloaded images reach max num, thread downloader-002 is ready to exit\n",
      "2025-03-14 16:43:11,165 - INFO - downloader - thread downloader-002 exit\n",
      "2025-03-14 16:43:11,732 - INFO - downloader - downloaded images reach max num, thread downloader-001 is ready to exit\n",
      "2025-03-14 16:43:11,733 - INFO - downloader - thread downloader-001 exit\n",
      "2025-03-14 16:43:13,008 - INFO - parser - downloaded image reached max num, thread parser-001 is ready to exit\n",
      "2025-03-14 16:43:13,008 - INFO - parser - thread parser-001 exit\n",
      "2025-03-14 16:43:13,693 - INFO - downloader - downloaded images reach max num, thread downloader-004 is ready to exit\n",
      "2025-03-14 16:43:13,697 - INFO - downloader - thread downloader-004 exit\n",
      "2025-03-14 16:43:15,080 - INFO - downloader - downloaded images reach max num, thread downloader-003 is ready to exit\n",
      "2025-03-14 16:43:15,082 - INFO - downloader - thread downloader-003 exit\n",
      "2025-03-14 16:43:15,410 - INFO - icrawler.crawler - Crawling task done!\n"
     ]
    }
   ],
   "source": [
    "bing_crawler = BingImageCrawler(downloader_threads=4,\n",
    "                                storage={'root_dir': 'your_image_dir'})\n",
    "\n",
    "bing_crawler.crawl(keyword='cat', filters=None, offset=0, max_num=3)"
   ]
  },
  {
   "cell_type": "code",
   "execution_count": 5,
   "id": "d0dde09c-db29-4e64-bee5-c513669b7cdc",
   "metadata": {},
   "outputs": [
    {
     "name": "stderr",
     "output_type": "stream",
     "text": [
      "2025-03-14 16:46:11,989 - INFO - icrawler.crawler - start crawling...\n",
      "2025-03-14 16:46:11,993 - INFO - icrawler.crawler - starting 1 feeder threads...\n",
      "2025-03-14 16:46:11,995 - INFO - feeder - thread feeder-001 exit\n",
      "2025-03-14 16:46:11,998 - INFO - icrawler.crawler - starting 1 parser threads...\n",
      "2025-03-14 16:46:12,005 - INFO - icrawler.crawler - starting 1 downloader threads...\n",
      "2025-03-14 16:46:14,391 - INFO - parser - parsing result page http://image.baidu.com/search/acjson?tn=resultjson_com&ipn=rj&word=汽车&pn=0&rn=30\n",
      "2025-03-14 16:46:25,647 - ERROR - downloader - Exception caught when downloading file https://img.pcauto.com.cn/images/ttauto/2024/03/21/7348471971052519936/dba94f6a74a040a09c799fae226431fb~noop.image.png?x-expires=1713567804&x-signature=Gxxc01KaDBbe46nDt6LyemFZ5Ns%3D, error: HTTPSConnectionPool(host='img.pcauto.com.cn', port=443): Read timed out. (read timeout=5), remaining retry times: 2\n",
      "2025-03-14 16:46:37,455 - INFO - downloader - image #1\thttps://img.pcauto.com.cn/images/ttauto/2024/03/21/7348471971052519936/dba94f6a74a040a09c799fae226431fb~noop.image.png?x-expires=1713567804&x-signature=Gxxc01KaDBbe46nDt6LyemFZ5Ns%3D\n",
      "2025-03-14 16:46:41,761 - INFO - downloader - image #2\thttps://pic.rmb.bdstatic.com/bjh/news/6ed53fe1cc1ffe6898a4e78a4d6681f2.jpeg\n",
      "2025-03-14 16:46:43,685 - INFO - downloader - image #3\thttps://sc04.alicdn.com/kf/H074c8533a81e46eb8de0cbc9eeb8fd8bv/273910655/H074c8533a81e46eb8de0cbc9eeb8fd8bv.jpeg\n",
      "2025-03-14 16:46:44,080 - INFO - downloader - downloaded images reach max num, thread downloader-001 is ready to exit\n",
      "2025-03-14 16:46:44,080 - INFO - downloader - thread downloader-001 exit\n",
      "2025-03-14 16:46:44,252 - INFO - icrawler.crawler - Crawling task done!\n",
      "2025-03-14 16:46:44,807 - INFO - parser - downloaded image reached max num, thread parser-001 is ready to exit\n",
      "2025-03-14 16:46:44,808 - INFO - parser - thread parser-001 exit\n"
     ]
    }
   ],
   "source": [
    "baidu_crawler = BaiduImageCrawler(storage={'root_dir': 'your_image_dir'})\n",
    "\n",
    "baidu_crawler.crawl(keyword='汽车', offset=0, max_num=3,\n",
    "                    min_size=(200,200), max_size=None)"
   ]
  },
  {
   "cell_type": "code",
   "execution_count": null,
   "id": "0df42d8c-8620-4210-8418-2c07df89a3f7",
   "metadata": {},
   "outputs": [],
   "source": []
  }
 ],
 "metadata": {
  "kernelspec": {
   "display_name": "TF_env",
   "language": "python",
   "name": "tf_env"
  },
  "language_info": {
   "codemirror_mode": {
    "name": "ipython",
    "version": 3
   },
   "file_extension": ".py",
   "mimetype": "text/x-python",
   "name": "python",
   "nbconvert_exporter": "python",
   "pygments_lexer": "ipython3",
   "version": "3.9.18"
  }
 },
 "nbformat": 4,
 "nbformat_minor": 5
}
