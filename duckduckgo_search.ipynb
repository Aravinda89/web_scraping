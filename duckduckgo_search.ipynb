{
 "cells": [
  {
   "cell_type": "code",
   "execution_count": 1,
   "id": "b0b4e898-d126-44ac-b9d5-4b6a0232336a",
   "metadata": {},
   "outputs": [],
   "source": [
    "# pip install -Uqq fastai 'duckduckgo_search>=6.2'\n",
    "# https://www.kaggle.com/code/jhoward/is-it-a-bird-creating-a-model-from-your-own-data/notebook"
   ]
  },
  {
   "cell_type": "code",
   "execution_count": 4,
   "id": "ab268b8c-db55-42d9-9010-ffe70533147e",
   "metadata": {},
   "outputs": [],
   "source": [
    "from duckduckgo_search import DDGS #DuckDuckGo has changed the api so we need to update \n",
    "from fastdownload import download_url\n",
    "import time, json\n",
    "from fastcore.all import *"
   ]
  },
  {
   "cell_type": "code",
   "execution_count": 30,
   "id": "80a11a54-df54-448a-98c2-322a6d182353",
   "metadata": {},
   "outputs": [],
   "source": [
    "def search_images(keywords, max_images=50):\n",
    "    return L(DDGS().images(keywords, max_results=max_images)).itemgot('image')"
   ]
  },
  {
   "cell_type": "code",
   "execution_count": 91,
   "id": "4edbf3b2-3434-4188-8d1b-d2486e4e8853",
   "metadata": {},
   "outputs": [],
   "source": [
    "keyword = 'Projector screens or whiteboards with text written on them'"
   ]
  },
  {
   "cell_type": "code",
   "execution_count": 92,
   "id": "b4f7c108-6f49-405e-aba0-8cb0b6d84625",
   "metadata": {},
   "outputs": [],
   "source": [
    "urls = search_images(keyword, max_images=50)"
   ]
  },
  {
   "cell_type": "code",
   "execution_count": 93,
   "id": "4a747923-5dba-4e38-8db5-8c3fdf3ce5de",
   "metadata": {},
   "outputs": [
    {
     "data": {
      "text/plain": [
       "50"
      ]
     },
     "execution_count": 93,
     "metadata": {},
     "output_type": "execute_result"
    }
   ],
   "source": [
    "len(urls)"
   ]
  },
  {
   "cell_type": "code",
   "execution_count": 94,
   "id": "795c5396-8bf3-46de-85b6-1689eb4bac37",
   "metadata": {},
   "outputs": [],
   "source": [
    "path = Path('images')\n",
    "subdir = 'Projector'"
   ]
  },
  {
   "cell_type": "code",
   "execution_count": 95,
   "id": "3ef73297-a780-4308-9c8d-f4b7c6e4eb90",
   "metadata": {},
   "outputs": [],
   "source": [
    "dest = (path/subdir)\n",
    "dest.mkdir(exist_ok=True, parents=True)"
   ]
  },
  {
   "cell_type": "code",
   "execution_count": 96,
   "id": "6e2e11ff-f5a8-410e-93e9-9a364aacc4ae",
   "metadata": {},
   "outputs": [],
   "source": [
    "for img_url in urls:\n",
    "    try:\n",
    "        download_url(img_url, dest, show_progress=False)\n",
    "    except:\n",
    "        continue\n",
    "    # break"
   ]
  },
  {
   "cell_type": "code",
   "execution_count": 26,
   "id": "117bb08f-8590-4347-87b5-5df8e117c60c",
   "metadata": {},
   "outputs": [],
   "source": [
    "# dest = 'bird.jpg'\n",
    "# download_url(urls[0], dest, show_progress=False)"
   ]
  },
  {
   "cell_type": "code",
   "execution_count": 13,
   "id": "d2c8fa67-ee96-4e94-bc9d-5ebfed3f5ccc",
   "metadata": {},
   "outputs": [],
   "source": [
    "# searches = 'forest','bird'\n",
    "# path = Path('images')\n",
    "\n",
    "# for o in searches:\n",
    "#     dest = (path/o)\n",
    "#     dest.mkdir(exist_ok=True, parents=True)\n",
    "#     time.sleep(5)"
   ]
  }
 ],
 "metadata": {
  "kernelspec": {
   "display_name": "TF_env",
   "language": "python",
   "name": "tf_env"
  },
  "language_info": {
   "codemirror_mode": {
    "name": "ipython",
    "version": 3
   },
   "file_extension": ".py",
   "mimetype": "text/x-python",
   "name": "python",
   "nbconvert_exporter": "python",
   "pygments_lexer": "ipython3",
   "version": "3.9.18"
  }
 },
 "nbformat": 4,
 "nbformat_minor": 5
}
