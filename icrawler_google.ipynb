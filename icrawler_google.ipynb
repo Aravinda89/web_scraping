{
 "cells": [
  {
   "cell_type": "code",
   "execution_count": 1,
   "id": "e94199f5-76a4-4a38-bdf2-77294dd04fbc",
   "metadata": {},
   "outputs": [],
   "source": [
    "from icrawler.builtin import GoogleImageCrawler"
   ]
  },
  {
   "cell_type": "code",
   "execution_count": 7,
   "id": "d9e6ca4f-3a54-492c-a09d-4113892d1d35",
   "metadata": {},
   "outputs": [
    {
     "name": "stderr",
     "output_type": "stream",
     "text": [
      "2025-03-14 15:18:13,745 - INFO - icrawler.crawler - start crawling...\n",
      "2025-03-14 15:18:13,751 - INFO - icrawler.crawler - starting 1 feeder threads...\n",
      "2025-03-14 15:18:13,755 - INFO - feeder - thread feeder-001 exit\n",
      "2025-03-14 15:18:13,758 - INFO - icrawler.crawler - starting 1 parser threads...\n",
      "2025-03-14 15:18:13,762 - INFO - icrawler.crawler - starting 1 downloader threads...\n",
      "2025-03-14 15:18:15,547 - INFO - parser - parsing result page https://www.google.com/search?q=cat&ijn=0&start=0&tbs=&tbm=isch\n",
      "2025-03-14 15:18:17,651 - INFO - downloader - image #1\thttps://i.natgeofe.com/n/548467d8-c5f1-4551-9f58-6817a8d2c45e/NationalGeographic_2572187_3x2.jpg\n",
      "2025-03-14 15:18:20,162 - ERROR - downloader - Response status code 404, file https://upload.wikimedia.org/wikipedia/commons/thumb/1/15/Cat_August_2010-4.jpg\n",
      "2025-03-14 15:18:25,186 - ERROR - downloader - Exception caught when downloading file https://upload.wikimedia.org/wikipedia/commons/thumb/4/4d/Cat_November_2010-1a.jpg, error: HTTPSConnectionPool(host='upload.wikimedia.org', port=443): Read timed out. (read timeout=5), remaining retry times: 2\n",
      "2025-03-14 15:18:31,158 - ERROR - downloader - Exception caught when downloading file https://upload.wikimedia.org/wikipedia/commons/thumb/4/4d/Cat_November_2010-1a.jpg, error: HTTPSConnectionPool(host='upload.wikimedia.org', port=443): Read timed out. (read timeout=5), remaining retry times: 1\n",
      "2025-03-14 15:18:37,687 - ERROR - downloader - Exception caught when downloading file https://upload.wikimedia.org/wikipedia/commons/thumb/4/4d/Cat_November_2010-1a.jpg, error: HTTPSConnectionPool(host='upload.wikimedia.org', port=443): Read timed out. (read timeout=5), remaining retry times: 0\n",
      "2025-03-14 15:18:37,960 - INFO - downloader - image #2\thttp://www.alleycat.org/wp-content/uploads/2019/03/FELV-cat.jpg\n",
      "2025-03-14 15:18:38,759 - INFO - downloader - image #3\thttps://i.natgeofe.com/n/548467d8-c5f1-4551-9f58-6817a8d2c45e/NationalGeographic_2572187_3x4.jpg\n",
      "2025-03-14 15:18:40,604 - INFO - downloader - image #4\thttps://cdn.britannica.com/39/226539-050-D21D7721/Portrait-of-a-cat-with-whiskers-visible.jpg\n",
      "2025-03-14 15:18:40,728 - INFO - downloader - image #5\thttps://cdn.britannica.com/34/235834-050-C5843610/two-different-breeds-of-cats-side-by-side-outdoors-in-the-garden.jpg\n",
      "2025-03-14 15:18:43,052 - INFO - downloader - downloaded images reach max num, thread downloader-001 is ready to exit\n",
      "2025-03-14 15:18:43,054 - INFO - downloader - thread downloader-001 exit\n",
      "2025-03-14 15:18:44,022 - INFO - icrawler.crawler - Crawling task done!\n",
      "2025-03-14 15:18:44,831 - INFO - parser - downloaded image reached max num, thread parser-001 is ready to exit\n",
      "2025-03-14 15:18:44,833 - INFO - parser - thread parser-001 exit\n"
     ]
    }
   ],
   "source": [
    "google_crawler = GoogleImageCrawler(storage={'root_dir': 'your_image_dir'})\n",
    "google_crawler.crawl(keyword='cat', max_num=5)"
   ]
  },
  {
   "cell_type": "code",
   "execution_count": 4,
   "id": "2c6caa21-77a7-41ab-8def-e5f332975236",
   "metadata": {},
   "outputs": [],
   "source": [
    "google_crawler = GoogleImageCrawler(\n",
    "                                    feeder_threads=1,\n",
    "                                    parser_threads=2,\n",
    "                                    downloader_threads=4,\n",
    "                                    storage={'root_dir': 'car'})\n",
    "\n",
    "filters = dict(\n",
    "                size='large',\n",
    "                color='red',\n",
    "                license='commercial,modify')\n",
    "                # date=((2017, 1, 1), (2025, 11, 30)))"
   ]
  },
  {
   "cell_type": "code",
   "execution_count": 5,
   "id": "f539a054-14ec-40a3-8df9-2c01fcd28637",
   "metadata": {},
   "outputs": [
    {
     "name": "stderr",
     "output_type": "stream",
     "text": [
      "2025-03-14 16:12:03,022 - INFO - icrawler.crawler - start crawling...\n",
      "2025-03-14 16:12:03,026 - INFO - icrawler.crawler - starting 1 feeder threads...\n",
      "2025-03-14 16:12:03,028 - INFO - feeder - thread feeder-001 exit\n",
      "2025-03-14 16:12:03,030 - INFO - icrawler.crawler - starting 2 parser threads...\n",
      "2025-03-14 16:12:03,038 - INFO - icrawler.crawler - starting 4 downloader threads...\n",
      "2025-03-14 16:12:04,834 - INFO - parser - parsing result page https://www.google.com/search?q=car&ijn=0&start=0&tbs=isz%3Al%2Cic%3Aspecific%2Cisc%3Ared%2Csur%3Afmc&tbm=isch\n",
      "2025-03-14 16:12:05,072 - INFO - parser - no more page urls for thread parser-002 to parse\n",
      "2025-03-14 16:12:05,085 - INFO - parser - thread parser-002 exit\n",
      "2025-03-14 16:12:07,935 - INFO - downloader - image #1\thttps://upload.wikimedia.org/wikipedia/commons/a/a4/2019_Toyota_Corolla_Icon_Tech_VVT-i_Hybrid_1.8.jpg\n",
      "2025-03-14 16:12:09,050 - INFO - downloader - image #2\thttps://shmector.com/_ph/11/238950965.png\n",
      "2025-03-14 16:12:10,122 - INFO - downloader - image #3\thttps://get.pxhere.com/photo/land-vehicle-vehicle-car-personal-luxury-car-luxury-vehicle-performance-car-audi-a5-audi-automotive-design-executive-car-sports-car-mid-size-car-sedan-coupe-sports-sedan-family-car-road-compact-car-driving-city-car-1615876.jpg\n",
      "2025-03-14 16:12:11,888 - INFO - downloader - image #4\thttps://get.pxhere.com/photo/car-vehicle-sports-car-race-car-supercar-land-vehicle-automobile-make-automotive-design-enzo-ferrari-78080.jpg\n",
      "2025-03-14 16:12:12,740 - INFO - downloader - image #5\thttps://c0.wallpaperflare.com/preview/101/147/824/p1-racing-car-sports-car-fast.jpg\n",
      "2025-03-14 16:12:13,328 - INFO - downloader - downloaded images reach max num, thread downloader-001 is ready to exit\n",
      "2025-03-14 16:12:13,328 - INFO - downloader - thread downloader-001 exit\n",
      "2025-03-14 16:12:13,678 - INFO - downloader - downloaded images reach max num, thread downloader-004 is ready to exit\n",
      "2025-03-14 16:12:13,680 - INFO - downloader - thread downloader-004 exit\n",
      "2025-03-14 16:12:13,925 - INFO - downloader - downloaded images reach max num, thread downloader-002 is ready to exit\n",
      "2025-03-14 16:12:13,925 - INFO - downloader - thread downloader-002 exit\n",
      "2025-03-14 16:12:14,264 - INFO - downloader - downloaded images reach max num, thread downloader-003 is ready to exit\n",
      "2025-03-14 16:12:14,272 - INFO - downloader - thread downloader-003 exit\n",
      "2025-03-14 16:12:14,758 - INFO - parser - downloaded image reached max num, thread parser-001 is ready to exit\n",
      "2025-03-14 16:12:14,758 - INFO - parser - thread parser-001 exit\n",
      "2025-03-14 16:12:15,138 - INFO - icrawler.crawler - Crawling task done!\n"
     ]
    }
   ],
   "source": [
    "google_crawler.crawl(keyword='car', filters=filters, max_num=5, file_idx_offset=0)"
   ]
  },
  {
   "cell_type": "code",
   "execution_count": null,
   "id": "cae82e0f-ecc9-41d7-9ff5-73d1eebb56be",
   "metadata": {},
   "outputs": [],
   "source": []
  }
 ],
 "metadata": {
  "kernelspec": {
   "display_name": "TF_env",
   "language": "python",
   "name": "tf_env"
  },
  "language_info": {
   "codemirror_mode": {
    "name": "ipython",
    "version": 3
   },
   "file_extension": ".py",
   "mimetype": "text/x-python",
   "name": "python",
   "nbconvert_exporter": "python",
   "pygments_lexer": "ipython3",
   "version": "3.9.18"
  }
 },
 "nbformat": 4,
 "nbformat_minor": 5
}
